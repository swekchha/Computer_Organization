{
  "nbformat": 4,
  "nbformat_minor": 0,
  "metadata": {
    "colab": {
      "provenance": []
    },
    "kernelspec": {
      "name": "python3",
      "display_name": "Python 3"
    },
    "language_info": {
      "name": "python"
    }
  },
  "cells": [
    {
      "cell_type": "code",
      "source": [
        "def base_conv(num,base,new_base):\n",
        "  check_num = num\n",
        "  num = num.split('-')\n",
        "  print(num)\n",
        "  valid_num = num[1:(len(num)-1)]\n",
        "  print(\"No inside hyphen\",valid_num)\n",
        "  #Check for validity\n",
        "  for i in valid_num:\n",
        "    if int(i) > int(base):\n",
        "      print(\"Error information\")\n",
        "  else:\n",
        "      newnum = check_num.replace('-',\"\")\n",
        "      bc = 0\n",
        "      power = (len(newnum)-1)-len(valid_num)\n",
        "\n",
        "\n",
        "    #first index value conversion\n",
        "      for i in num[0]:\n",
        "        if i == \" \":\n",
        "          break\n",
        "        else:\n",
        "         for j in i:\n",
        "           conv = int(j) * (base**power)\n",
        "           bc = conv + bc\n",
        "           power-=1\n",
        "      stored_power = power\n",
        "  #middle index value conversion\n",
        "      for i in valid_num:\n",
        "        conv = int(i)*(base**stored_power)\n",
        "        bc = conv + bc\n",
        "        stored_power -= 1\n",
        "\n",
        "      new_power = stored_power\n",
        "\n",
        "  #last index conversion\n",
        "      for i in num[-1]:\n",
        "        if i==\" \":\n",
        "          break\n",
        "        else:\n",
        "         for j in i:\n",
        "           conv = int(j) * (base**new_power)\n",
        "           bc = conv + bc\n",
        "           new_power-=1\n",
        "      print(\"Conversion to actual base:\",bc)\n",
        "  #Conversion to the new_base\n",
        "  newnumber= bc\n",
        "  result = \"\"\n",
        "  while newnumber > 0:\n",
        "    remainder = newnumber % new_base\n",
        "    result = \"-\"+ str(remainder)  + result\n",
        "    newnumber //= new_base\n",
        "\n",
        "  print(\"Conversion to new_base:\",result)\n",
        "\n",
        "\n",
        "\n",
        "\n",
        "\n",
        "\n",
        "\n",
        "\n",
        "\n",
        "\n",
        "\n",
        "base_conv('123-46-6',46,23)\n",
        "#base_conv('6-54-3-21-',63,74)"
      ],
      "metadata": {
        "colab": {
          "base_uri": "https://localhost:8080/"
        },
        "id": "Iqpo6Qcedi7t",
        "outputId": "6bf1292c-af67-48ef-e1a7-c5826fbc05b5"
      },
      "execution_count": 3,
      "outputs": [
        {
          "output_type": "stream",
          "name": "stdout",
          "text": [
            "['123', '46', '6']\n",
            "No inside hyphen ['46']\n",
            "Conversion to actual base: 4680598\n",
            "Conversion to new_base: -16-16-16-0-6\n"
          ]
        }
      ]
    },
    {
      "cell_type": "code",
      "source": [
        "def float_to_binary_floating_point(floating_dec):\n",
        "    if floating_dec == 0:\n",
        "        return \"1_00000_00000000\"\n",
        "\n",
        "    sign_bit = \"1\" if floating_dec < 0 else \"0\"\n",
        "    abs_floating_dec = abs(floating_dec)\n",
        "\n",
        "    int_part = int(abs_floating_dec)\n",
        "    frac_part = abs_floating_dec - int_part\n",
        "\n",
        "    int_binary = bin(int_part)[2:]\n",
        "    frac_binary = \"\"\n",
        "\n",
        "    while len(int_binary) < 5:\n",
        "        int_binary = \"0\" + int_binary\n",
        "\n",
        "    for _ in range(8):\n",
        "        frac_part *= 2\n",
        "        frac_bit = \"1\" if frac_part >= 1 else \"0\"\n",
        "        frac_binary += frac_bit\n",
        "        if frac_part >= 1:\n",
        "            frac_part -= 1\n",
        "\n",
        "    binary_representation = f\"{sign_bit}_{int_binary}_{frac_binary}\"\n",
        "    return binary_representation[:14]\n",
        "\n",
        "floating_dec = -26.625\n",
        "binary_representation = float_to_binary_floating_point(floating_dec)\n",
        "print(binary_representation)\n"
      ],
      "metadata": {
        "colab": {
          "base_uri": "https://localhost:8080/"
        },
        "id": "uCryFtEkVczR",
        "outputId": "3d9d3080-b9ef-42ef-ca89-1b0d8f08acda"
      },
      "execution_count": 11,
      "outputs": [
        {
          "output_type": "stream",
          "name": "stdout",
          "text": [
            "1_11010_101000\n"
          ]
        }
      ]
    }
  ]
}